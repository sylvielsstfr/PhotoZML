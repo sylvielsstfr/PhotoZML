{
 "cells": [
  {
   "cell_type": "markdown",
   "id": "8be90ff2-e420-41cc-b4a9-803a23841021",
   "metadata": {},
   "source": [
    "# Convert ascii to pytables\n",
    "\n",
    "## prepare conversion of ascii tables into pytables\n",
    "\n",
    "- author : Sylvie Dagoret-Campagne\n",
    "- affilication : IJCLab/IN2P3/CNRS\n",
    "- Creation date : January 22th 2022"
   ]
  },
  {
   "cell_type": "markdown",
   "id": "31411e12-713b-4187-9f0e-e4b1a758ed3a",
   "metadata": {},
   "source": [
    "## Imports"
   ]
  },
  {
   "cell_type": "code",
   "execution_count": 1,
   "id": "8d0a2a6a-c7b2-452d-be51-b12e2e824a7e",
   "metadata": {},
   "outputs": [],
   "source": [
    "%matplotlib inline\n",
    "import numpy as np\n",
    "import matplotlib.pyplot as plt\n",
    "import scipy.stats\n",
    "import sys,os\n",
    "sys.path.append('../')\n",
    "from delight.io import *\n",
    "from delight.utils import *\n",
    "from delight.photoz_gp import PhotozGP"
   ]
  },
  {
   "cell_type": "code",
   "execution_count": 2,
   "id": "29bf7377-4b33-464b-86a9-1c60aafa18ad",
   "metadata": {},
   "outputs": [],
   "source": [
    "from matplotlib.colors import LogNorm"
   ]
  },
  {
   "cell_type": "code",
   "execution_count": 3,
   "id": "0275702b-bdb5-4cae-9341-3bef97915467",
   "metadata": {},
   "outputs": [],
   "source": [
    "import logging\n",
    "import coloredlogs\n",
    "logger = logging.getLogger(__name__)\n",
    "coloredlogs.install(level='DEBUG', logger=logger,fmt='%(asctime)s,%(msecs)03d %(programname)s %(name)s[%(process)d] %(levelname)s %(message)s')"
   ]
  },
  {
   "cell_type": "code",
   "execution_count": 4,
   "id": "9d5c3b30-8564-432d-948e-885da1266b47",
   "metadata": {},
   "outputs": [
    {
     "name": "stdout",
     "output_type": "stream",
     "text": [
      "/Users/dagoret/anaconda3/bin/python\n",
      "3.8.8 (default, Apr 13 2021, 12:59:45) \n",
      "[Clang 10.0.0 ]\n"
     ]
    }
   ],
   "source": [
    "print(sys.executable)\n",
    "print(sys.version)\n",
    "#print(sys.version_info)"
   ]
  },
  {
   "cell_type": "code",
   "execution_count": 5,
   "id": "5fc3f658-0581-4f65-b95f-39a60cef0ca5",
   "metadata": {},
   "outputs": [],
   "source": [
    "plt.rcParams[\"figure.figsize\"] = (12,6)\n",
    "plt.rcParams[\"axes.labelsize\"] = 'xx-large'\n",
    "plt.rcParams['axes.titlesize'] = 'xx-large'\n",
    "plt.rcParams['xtick.labelsize']= 'xx-large'\n",
    "plt.rcParams['ytick.labelsize']= 'xx-large'"
   ]
  },
  {
   "cell_type": "code",
   "execution_count": 6,
   "id": "ee50589c-f752-499e-8a0c-a2e03e80d880",
   "metadata": {},
   "outputs": [],
   "source": [
    "from delight.io import *"
   ]
  },
  {
   "cell_type": "code",
   "execution_count": 7,
   "id": "35f87066-fd1b-413a-8aa7-1089a379fdbd",
   "metadata": {},
   "outputs": [],
   "source": [
    "import tables as tb"
   ]
  },
  {
   "cell_type": "code",
   "execution_count": 8,
   "id": "fd9619fb-e1a8-4434-a6a3-9731763e7131",
   "metadata": {},
   "outputs": [
    {
     "name": "stdout",
     "output_type": "stream",
     "text": [
      "\u001b[1m\u001b[31mdata\u001b[m\u001b[m                  parametersTest_14.cfg parametersTest_21.cfg\n",
      "\u001b[1m\u001b[31mdelight_data\u001b[m\u001b[m          parametersTest_15.cfg parametersTest_3.cfg\n",
      "parametersTest.cfg    parametersTest_16.cfg parametersTest_4.cfg\n",
      "parametersTest_1.cfg  parametersTest_17.cfg parametersTest_5.cfg\n",
      "parametersTest_10.cfg parametersTest_18.cfg parametersTest_6.cfg\n",
      "parametersTest_11.cfg parametersTest_19.cfg parametersTest_7.cfg\n",
      "parametersTest_12.cfg parametersTest_2.cfg  parametersTest_8.cfg\n",
      "parametersTest_13.cfg parametersTest_20.cfg parametersTest_9.cfg\n"
     ]
    }
   ],
   "source": [
    "!ls tmp"
   ]
  },
  {
   "cell_type": "markdown",
   "id": "96cb57a5-5808-41fd-9950-519b696feed1",
   "metadata": {},
   "source": [
    "## configuration"
   ]
  },
  {
   "cell_type": "code",
   "execution_count": 9,
   "id": "cd6bf3de-fe0f-4f10-9915-96856ff5e03e",
   "metadata": {},
   "outputs": [],
   "source": [
    "# config file\n",
    "configdir          = \"./tmp\"\n",
    "configfilename     = \"parametersTest.cfg\"\n",
    "configfullfilename = os.path.join(configdir,configfilename)\n",
    "# data\n",
    "workdir               = \"./tmp/delight_data\"\n",
    "filename_galaxies     = \"galaxies-fluxredshifts.txt\"\n",
    "fullfilename_galaxies = os.path.join(workdir,filename_galaxies)"
   ]
  },
  {
   "cell_type": "code",
   "execution_count": 10,
   "id": "f759a475-4347-4d39-9a6a-9976a9aab7d4",
   "metadata": {},
   "outputs": [
    {
     "name": "stdout",
     "output_type": "stream",
     "text": [
      "Input parameter file: ./tmp/parametersTest.cfg\n",
      "Parameters read:\n",
      ">  rootDir              ./\n",
      ">  bands_directory      ./tmp/data/FILTERS\n",
      ">  bandNames            DC2LSST_u DC2LSST_g DC2LSST_r DC2LSST_i DC2LSST_z DC2LSST_y\n",
      ">  numCoefs             15\n",
      ">  bands_fmt            res\n",
      ">  bands_verbose        True\n",
      ">  bands_debug          True\n",
      ">  bands_makeplots      False\n",
      ">  templates_directory  ./tmp/data/CWW_SEDs\n",
      ">  sed_fmt              sed\n",
      ">  lambdaRef            4500.0\n",
      ">  templates_names      El_B2004a Sbc_B2004a Scd_B2004a SB3_B2004a SB2_B2004a Im_B2004a ssp_25Myr_z008 ssp_5Myr_z008\n",
      ">  p_t                  [0.27   0.26   0.25   0.069  0.021  0.11   0.0061 0.0079]\n",
      ">  p_z_t                [0.23 0.39 0.33 0.31 1.1  0.34 1.2  0.14]\n",
      ">  training_numChunks   1\n",
      ">  training_paramFile   ./tmp/delight_data/galaxies-gpparams.txt\n",
      ">  training_catFile     ./tmp/delight_data/galaxies-fluxredshifts.txt\n",
      ">  training_referenceBand DC2LSST_i\n",
      ">  training_bandOrder   DC2LSST_u DC2LSST_u_var DC2LSST_g DC2LSST_g_var DC2LSST_r DC2LSST_r_var DC2LSST_i DC2LSST_i_var DC2LSST_z DC2LSST_z_var DC2LSST_y DC2LSST_y_var redshift\n",
      ">  training_extraFracFluxError 0.0001\n",
      ">  training_crossValidate False\n",
      ">  training_CV_bandOrder _ _ _ _ DC2LSST_r DC2LSST_r_var _ _ _ _ _ _\n",
      ">  training_CVfile      ./tmp/delight_data/galaxies-gpCV.txt\n",
      ">  trainingFile         ./tmp/delight_data/galaxies-fluxredshifts.txt\n",
      ">  targetFile           ./tmp/delight_data/galaxies-fluxredshifts2.txt\n",
      ">  numObjects           1000\n",
      ">  noiseLevel           0.03\n",
      ">  target_extraFracFluxError 0.0001\n",
      ">  target_catFile       ./tmp/delight_data/galaxies-fluxredshifts2.txt\n",
      ">  target_bandOrder     DC2LSST_u DC2LSST_u_var DC2LSST_g DC2LSST_g_var DC2LSST_r DC2LSST_r_var DC2LSST_i DC2LSST_i_var DC2LSST_z DC2LSST_z_var DC2LSST_y DC2LSST_y_var redshift\n",
      ">  target_referenceBand DC2LSST_r\n",
      ">  compressIndicesFile  ./tmp/delight_data/galaxies-compressionIndices.txt\n",
      ">  compressMargLikFile  ./tmp/delight_data/galaxies-compressionMargLikes.txt\n",
      ">  compressionFilesFound False\n",
      ">  Ncompress            10\n",
      ">  useCompression       False\n",
      ">  redshiftpdfFile      ./tmp/delight_data/galaxies-redshiftpdfs.txt\n",
      ">  redshiftpdfFileComp  ./tmp/delight_data/galaxies-redshiftpdfs-comp.txt\n",
      ">  redshiftpdfFileTemp  ./tmp/delight_data/galaxies-redshiftpdfs-cww.txt\n",
      ">  metricsFile          ./tmp/delight_data/galaxies-redshiftmetrics.txt\n",
      ">  metricsFileTemp      ./tmp/delight_data/galaxies-redshiftmetrics-cww.txt\n",
      ">  zPriorSigma          0.2\n",
      ">  ellPriorSigma        0.5\n",
      ">  fluxLuminosityNorm   1.0\n",
      ">  alpha_C              1000.0\n",
      ">  alpha_L              100.0\n",
      ">  V_C                  0.1\n",
      ">  V_L                  0.1\n",
      ">  redshiftMin          0.01\n",
      ">  redshiftMax          3.01\n",
      ">  redshiftBinSize      0.01\n",
      ">  redshiftNumBinsGPpred 301\n",
      ">  redshiftDisBinSize   0.2\n",
      ">  lines_pos            6500.0 5002.26 3732.22\n",
      ">  lines_width          20.0 20.0 20.0 20.0\n",
      ">  confidenceLevels     0.1 0.5 0.68 0.95\n"
     ]
    }
   ],
   "source": [
    "paramFileName = configfullfilename\n",
    "params        = parseParamFile(paramFileName, verbose=False)"
   ]
  },
  {
   "cell_type": "markdown",
   "id": "87d78e94-1ddc-4b0f-811d-bde064530c53",
   "metadata": {},
   "source": [
    "# Delight Parameters"
   ]
  },
  {
   "cell_type": "code",
   "execution_count": 11,
   "id": "416c9eb2-33b8-4570-ba5c-567b59372a37",
   "metadata": {},
   "outputs": [],
   "source": [
    "DL = approx_DL()\n",
    "redshiftDistGrid, redshiftGrid, redshiftGridGP = createGrids(params)\n",
    "numZ = redshiftGrid.size\n",
    "\n",
    "# Locate which columns of the catalog correspond to which bands.\n",
    "\n",
    "bandIndices, bandNames, bandColumns, bandVarColumns, redshiftColumn,refBandColumn = readColumnPositions(params, prefix=\"target_\")"
   ]
  },
  {
   "cell_type": "code",
   "execution_count": 12,
   "id": "49295b18-ef2f-4dcf-90d1-7151441ed93a",
   "metadata": {},
   "outputs": [
    {
     "name": "stdout",
     "output_type": "stream",
     "text": [
      "[0 1 2 3 4 5]\n"
     ]
    }
   ],
   "source": [
    "print(bandIndices)"
   ]
  },
  {
   "cell_type": "code",
   "execution_count": 13,
   "id": "0170df58-d28d-492d-a635-cc894914fe1a",
   "metadata": {},
   "outputs": [
    {
     "name": "stdout",
     "output_type": "stream",
     "text": [
      "['DC2LSST_u' 'DC2LSST_g' 'DC2LSST_r' 'DC2LSST_i' 'DC2LSST_z' 'DC2LSST_y']\n"
     ]
    }
   ],
   "source": [
    "print(bandNames)"
   ]
  },
  {
   "cell_type": "code",
   "execution_count": 14,
   "id": "f24e904b-f0b2-4eef-98a6-f04930eb0f46",
   "metadata": {},
   "outputs": [
    {
     "name": "stdout",
     "output_type": "stream",
     "text": [
      "[ 0  2  4  6  8 10]\n"
     ]
    }
   ],
   "source": [
    "print(bandColumns)"
   ]
  },
  {
   "cell_type": "code",
   "execution_count": 15,
   "id": "ab5b4b34-5d03-490e-99d0-96219ee1dbf5",
   "metadata": {},
   "outputs": [
    {
     "name": "stdout",
     "output_type": "stream",
     "text": [
      "[ 1  3  5  7  9 11]\n"
     ]
    }
   ],
   "source": [
    "print(bandVarColumns)"
   ]
  },
  {
   "cell_type": "code",
   "execution_count": 16,
   "id": "bf4ca8b8-64fd-4fa1-a5e7-6ed28f74ef61",
   "metadata": {},
   "outputs": [
    {
     "name": "stdout",
     "output_type": "stream",
     "text": [
      "12\n"
     ]
    }
   ],
   "source": [
    "print(redshiftColumn)"
   ]
  },
  {
   "cell_type": "code",
   "execution_count": 17,
   "id": "9410acd7-47ba-4bd1-a4f6-23420a6e2885",
   "metadata": {},
   "outputs": [
    {
     "name": "stdout",
     "output_type": "stream",
     "text": [
      "4\n"
     ]
    }
   ],
   "source": [
    "print(refBandColumn)"
   ]
  },
  {
   "cell_type": "markdown",
   "id": "400c99cc-4cf4-406b-b60b-4b775e3116bf",
   "metadata": {},
   "source": [
    "# Training"
   ]
  },
  {
   "cell_type": "code",
   "execution_count": 18,
   "id": "27ec1b7e-4e63-4dd6-b2c6-334cc7542be9",
   "metadata": {},
   "outputs": [
    {
     "data": {
      "text/plain": [
       "13"
      ]
     },
     "execution_count": 18,
     "metadata": {},
     "output_type": "execute_result"
    }
   ],
   "source": [
    "nbcol_train = len(params['training_bandOrder'])\n",
    "nbcol_train"
   ]
  },
  {
   "cell_type": "code",
   "execution_count": 19,
   "id": "26fed565-96bc-45b0-a967-0dcbdd361a20",
   "metadata": {},
   "outputs": [
    {
     "name": "stderr",
     "output_type": "stream",
     "text": [
      "<ipython-input-19-181498cf5da6>:4: DeprecationWarning: Calling np.sum(generator) is deprecated, and in the future will give a different result. Use np.sum(np.fromiter(generator)) or the python sum builtin instead.\n",
      "  numObjectsTraining = np.sum(1 for line in open(params['training_catFile']))\n",
      "2022-01-23 14:46:05,876 ipykernel_launcher.py __main__[76528] INFO Number of Training Objects 3755\n",
      "2022-01-23 14:46:05,878 ipykernel_launcher.py __main__[76528] INFO Thread 0 , analyzes lines 0 , to 3755\n"
     ]
    }
   ],
   "source": [
    "numThreads = 1\n",
    "threadNum = 0\n",
    "\n",
    "numObjectsTraining = np.sum(1 for line in open(params['training_catFile']))\n",
    "\n",
    "msg= 'Number of Training Objects ' + str(numObjectsTraining)\n",
    "logger.info(msg)\n",
    "\n",
    "firstLine = int(threadNum * numObjectsTraining / numThreads)\n",
    "lastLine = int(min(numObjectsTraining,(threadNum + 1) * numObjectsTraining / numThreads))\n",
    "numLines = lastLine - firstLine\n",
    "\n",
    "msg ='Thread ' +  str(threadNum) + ' , analyzes lines ' + str(firstLine) + ' , to ' + str(lastLine)\n",
    "logger.info(msg)"
   ]
  },
  {
   "cell_type": "code",
   "execution_count": 20,
   "id": "ee07caf8-7f59-4bba-8e5e-8e643087312a",
   "metadata": {},
   "outputs": [
    {
     "data": {
      "text/plain": [
       "False"
      ]
     },
     "execution_count": 20,
     "metadata": {},
     "output_type": "execute_result"
    }
   ],
   "source": [
    "crossValidate_flag = params['training_crossValidate']\n",
    "crossValidate_flag"
   ]
  },
  {
   "cell_type": "code",
   "execution_count": 21,
   "id": "02b60b3f-213d-4b91-9ea0-a536375883a2",
   "metadata": {},
   "outputs": [
    {
     "name": "stdout",
     "output_type": "stream",
     "text": [
      "0 \t z 0.02043498739444738 \t Nflux 3031650.7320414316 \t bands [0 1 2 3 4 5] \t fluxes [1349.60090537 3647.50826794 4841.59244168 5544.0759444  5751.77741451\n",
      " 5981.23969488] \t fluxesVar [ 46.38848211 332.9087944  586.39517919 768.95409146 827.86598966\n",
      " 895.94544786] \t bandsCV None \t fluxesCV None \t fluxesVarCV None \t X [[0.00000000e+00 2.04349874e-02 2.60222573e+11]\n",
      " [1.00000000e+00 2.04349874e-02 2.60222573e+11]\n",
      " [2.00000000e+00 2.04349874e-02 2.60222573e+11]\n",
      " [3.00000000e+00 2.04349874e-02 2.60222573e+11]\n",
      " [4.00000000e+00 2.04349874e-02 2.60222573e+11]\n",
      " [5.00000000e+00 2.04349874e-02 2.60222573e+11]] \t Y [[1349.60090537]\n",
      " [3647.50826794]\n",
      " [4841.59244168]\n",
      " [5544.0759444 ]\n",
      " [5751.77741451]\n",
      " [5981.23969488]] \t Yvar [[ 46.38848211]\n",
      " [332.9087944 ]\n",
      " [586.39517919]\n",
      " [768.95409146]\n",
      " [827.86598966]\n",
      " [895.94544786]]\n",
      "1 \t z 0.01936132305993654 \t Nflux 81129.16941288905 \t bands [0 1 2 3 4 5] \t fluxes [ 50.13226396 115.50270113 135.77265951 148.36348784 152.33461248\n",
      " 155.26331547] \t fluxesVar [0.22932213 0.34490785 0.46987962 0.5672234  0.62610122 0.81242474] \t bandsCV None \t fluxesCV None \t fluxesVarCV None \t X [[0.00000000e+00 1.93613231e-02 6.21568103e+09]\n",
      " [1.00000000e+00 1.93613231e-02 6.21568103e+09]\n",
      " [2.00000000e+00 1.93613231e-02 6.21568103e+09]\n",
      " [3.00000000e+00 1.93613231e-02 6.21568103e+09]\n",
      " [4.00000000e+00 1.93613231e-02 6.21568103e+09]\n",
      " [5.00000000e+00 1.93613231e-02 6.21568103e+09]] \t Y [[ 50.13226396]\n",
      " [115.50270113]\n",
      " [135.77265951]\n",
      " [148.36348784]\n",
      " [152.33461248]\n",
      " [155.26331547]] \t Yvar [[0.22932213]\n",
      " [0.34490785]\n",
      " [0.46987962]\n",
      " [0.5672234 ]\n",
      " [0.62610122]\n",
      " [0.81242474]]\n",
      "2 \t z 0.036720669658963256 \t Nflux 228639.40950755303 \t bands [0 1 2 3 4 5] \t fluxes [ 40.32481047 148.43152919 290.04609224 418.12014715 582.08784898\n",
      " 688.93230885] \t fluxesVar [ 0.20209084  0.56373079  2.1169983   4.39959401  8.55168123 12.17133263] \t bandsCV None \t fluxesCV None \t fluxesVarCV None \t X [[0.00000000e+00 3.67206697e-02 6.87916515e+10]\n",
      " [1.00000000e+00 3.67206697e-02 6.87916515e+10]\n",
      " [2.00000000e+00 3.67206697e-02 6.87916515e+10]\n",
      " [3.00000000e+00 3.67206697e-02 6.87916515e+10]\n",
      " [4.00000000e+00 3.67206697e-02 6.87916515e+10]\n",
      " [5.00000000e+00 3.67206697e-02 6.87916515e+10]] \t Y [[ 40.32481047]\n",
      " [148.43152919]\n",
      " [290.04609224]\n",
      " [418.12014715]\n",
      " [582.08784898]\n",
      " [688.93230885]] \t Yvar [[ 0.20209084]\n",
      " [ 0.56373079]\n",
      " [ 2.1169983 ]\n",
      " [ 4.39959401]\n",
      " [ 8.55168123]\n",
      " [12.17133263]]\n",
      "3 \t z 0.039469064711437296 \t Nflux 432717.961818322 \t bands [0 1 2 3 4 5] \t fluxes [226.85710652 495.31649392 668.28142384 791.32507497 846.67632362\n",
      " 900.68332244] \t fluxesVar [ 1.54446284  6.16400555 11.19262755 15.70294153 18.02597272 20.62601785] \t bandsCV None \t fluxesCV None \t fluxesVarCV None \t X [[0.00000000e+00 3.94690647e-02 1.52353056e+11]\n",
      " [1.00000000e+00 3.94690647e-02 1.52353056e+11]\n",
      " [2.00000000e+00 3.94690647e-02 1.52353056e+11]\n",
      " [3.00000000e+00 3.94690647e-02 1.52353056e+11]\n",
      " [4.00000000e+00 3.94690647e-02 1.52353056e+11]\n",
      " [5.00000000e+00 3.94690647e-02 1.52353056e+11]] \t Y [[226.85710652]\n",
      " [495.31649392]\n",
      " [668.28142384]\n",
      " [791.32507497]\n",
      " [846.67632362]\n",
      " [900.68332244]] \t Yvar [[ 1.54446284]\n",
      " [ 6.16400555]\n",
      " [11.19262755]\n",
      " [15.70294153]\n",
      " [18.02597272]\n",
      " [20.62601785]]\n"
     ]
    }
   ],
   "source": [
    "trainingDataIter1 = getDataFromFile(params, firstLine, lastLine,prefix=\"training_\", getXY=True,CV=crossValidate_flag)\n",
    "loc = 0\n",
    "for z, normedRefFlux,bands, fluxes, fluxesVar,bandsCV, fluxesCV, fluxesVarCV,X, Y, Yvar in trainingDataIter1:\n",
    "    print(loc,\"\\t z\",z,\"\\t Nflux\",normedRefFlux,\"\\t bands\",bands,\"\\t fluxes\",fluxes,\"\\t fluxesVar\",fluxesVar,\n",
    "          \"\\t bandsCV\",bandsCV,\"\\t fluxesCV\", fluxesCV,\"\\t fluxesVarCV\", fluxesVarCV,\"\\t X\",X,\"\\t Y\",Y,\"\\t Yvar\",Yvar)\n",
    "    \n",
    "    if loc>2:\n",
    "        break\n",
    "    loc += 1"
   ]
  },
  {
   "cell_type": "markdown",
   "id": "9556614f-d30e-4f18-b0eb-e82cf988172c",
   "metadata": {},
   "source": [
    "## Create a pytable\n",
    "\n",
    "- https://www.pytables.org/usersguide/introduction.html"
   ]
  },
  {
   "cell_type": "code",
   "execution_count": 22,
   "id": "544e74ef-85bd-4547-81c5-72af3428979c",
   "metadata": {},
   "outputs": [],
   "source": [
    "# data\n",
    "workdir               = \"./tmp/delight_data\"\n",
    "filename_galaxies_h5     = \"galaxies-fluxredshifts.h5\"\n",
    "fullfilename_galaxies_h5 = os.path.join(workdir,filename_galaxies_h5)"
   ]
  },
  {
   "cell_type": "code",
   "execution_count": 23,
   "id": "7242570f-4b79-408e-974b-11f99ea1345e",
   "metadata": {},
   "outputs": [],
   "source": [
    "# Open a file in \"w\"rite mode\n",
    "fileh = tb.open_file(fullfilename_galaxies_h5, mode = \"w\")"
   ]
  },
  {
   "cell_type": "code",
   "execution_count": 24,
   "id": "c0344b19-6453-42cc-b288-975c35181b28",
   "metadata": {},
   "outputs": [],
   "source": [
    "# Get the HDF5 root group\n",
    "root = fileh.root"
   ]
  },
  {
   "cell_type": "code",
   "execution_count": 25,
   "id": "90f54111-0faf-4e25-bd46-def00861c1ee",
   "metadata": {},
   "outputs": [],
   "source": [
    "#Create the groups\n",
    "group = fileh.create_group(root, \"group\")"
   ]
  },
  {
   "cell_type": "markdown",
   "id": "d96958c6-f478-4e81-a5eb-40106fd8ed1e",
   "metadata": {},
   "source": [
    "### data structure"
   ]
  },
  {
   "cell_type": "code",
   "execution_count": 26,
   "id": "8a4d69c2-3f23-47fd-a06e-c14d574c814b",
   "metadata": {},
   "outputs": [],
   "source": [
    "class Galaxy(tb.IsDescription):\n",
    "    idnumber       = tb.Int64Col()      # Signed 64-bit integer\n",
    "    redshift       = tb.Float32Col()    # float32 redshift\n",
    "    normedRedfFlux = tb.Float32Col()    # float32 normalized Flux\n",
    "    bands          = tb.Int32Col(shape = (len(bandNames),)) \n",
    "    fluxes         = tb.Float32Col(shape = (len(bandNames),)) \n",
    "    fluxesVar      = tb.Float32Col(shape = (len(bandNames),)) \n",
    "    if crossValidate_flag:\n",
    "        bandsCV        = tb.Int32Col(shape = (len(bandNames),)) \n",
    "        fluxesCV       = tb.Float32Col(shape = (len(bandNames),)) \n",
    "        fluxesCVVar    = tb.Float32Col(shape = (len(bandNames),)) \n",
    "    X              = tb.Float32Col(shape = (len(bandNames),3))   # Gaussian Process X\n",
    "    Y              = tb.Float32Col(shape = (len(bandNames),1))   # Gaussian Process Y\n",
    "    Yvar           = tb.Float32Col(shape = (len(bandNames),1))   # Gaussian Process Yvar"
   ]
  },
  {
   "cell_type": "code",
   "execution_count": 27,
   "id": "e089aa0e-fc21-415f-ba00-d912e8f1062d",
   "metadata": {},
   "outputs": [],
   "source": [
    "# Create 1 table in group\n",
    "table = fileh.create_table(group, \"table\", Galaxy)"
   ]
  },
  {
   "cell_type": "code",
   "execution_count": 28,
   "id": "879fb4eb-c55c-4475-aa6f-159f322eb43e",
   "metadata": {},
   "outputs": [],
   "source": [
    "# Get the record object associated with the table:\n",
    "row = table.row"
   ]
  },
  {
   "cell_type": "code",
   "execution_count": 29,
   "id": "8ee69d50-f7d9-475c-8c46-541bf11345d3",
   "metadata": {},
   "outputs": [],
   "source": [
    "trainingDataIter1 = getDataFromFile(params, firstLine, lastLine,prefix=\"training_\", getXY=True,CV=crossValidate_flag)\n",
    "loc = 0\n",
    "for z, normedRefFlux,bands, fluxes, fluxesVar,bandsCV, fluxesCV, fluxesVarCV,X, Y, Yvar in trainingDataIter1:\n",
    "       \n",
    "    row['idnumber']       = loc\n",
    "    row['redshift']       = z\n",
    "    row['normedRedfFlux'] = normedRefFlux\n",
    "    row['bands']          = bands\n",
    "    row['fluxes']         = fluxes\n",
    "    row['fluxesVar']      = fluxesVar\n",
    "    if crossValidate_flag:\n",
    "        row['bandsCV']        = bandsCV\n",
    "        row['fluxesCV']       = fluxsCV\n",
    "        row['fluxesVarCV']    = fluxsVarCV\n",
    "    row['X']              = X\n",
    "    row['Y']              = Y\n",
    "    row['Yvar']           = Yvar\n",
    "        # This injects the Record values\n",
    "    row.append()\n",
    "    loc += 1\n",
    "    \n",
    " # Flush the table buffers\n",
    "table.flush()\n",
    "\n",
    "# Finally, close the file (this also will flush all the remaining buffers!)\n",
    "fileh.close()    "
   ]
  },
  {
   "cell_type": "code",
   "execution_count": null,
   "id": "16179c91-982d-4cfb-887f-445780864744",
   "metadata": {},
   "outputs": [],
   "source": []
  }
 ],
 "metadata": {
  "kernelspec": {
   "display_name": "desc",
   "language": "python",
   "name": "desc"
  },
  "language_info": {
   "codemirror_mode": {
    "name": "ipython",
    "version": 3
   },
   "file_extension": ".py",
   "mimetype": "text/x-python",
   "name": "python",
   "nbconvert_exporter": "python",
   "pygments_lexer": "ipython3",
   "version": "3.8.12"
  }
 },
 "nbformat": 4,
 "nbformat_minor": 5
}
