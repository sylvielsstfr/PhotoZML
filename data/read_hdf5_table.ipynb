{
 "cells": [
  {
   "cell_type": "markdown",
   "id": "221404cd-dfd9-4738-b746-b52a4e5d2d9a",
   "metadata": {},
   "source": [
    "# Example read hdf5"
   ]
  },
  {
   "cell_type": "code",
   "execution_count": 2,
   "id": "47be8e4b-5563-44d8-9382-68dba4d1b11e",
   "metadata": {},
   "outputs": [],
   "source": [
    "import os\n",
    "import tables as tb"
   ]
  },
  {
   "cell_type": "code",
   "execution_count": 4,
   "id": "df33180e-8801-4bc0-bad6-eb5b4ce9ef2c",
   "metadata": {},
   "outputs": [],
   "source": [
    "# data\n",
    "workdir               = \"./\"\n",
    "filename_galaxies_h5     = \"training_100gal.hdf5\"\n",
    "fullfilename_galaxies_h5 = os.path.join(workdir,filename_galaxies_h5)"
   ]
  },
  {
   "cell_type": "code",
   "execution_count": 6,
   "id": "00172f9a-a45e-4457-bab9-ef5a0e5ffa1d",
   "metadata": {},
   "outputs": [],
   "source": [
    "h5file = tb.open_file(fullfilename_galaxies_h5)"
   ]
  },
  {
   "cell_type": "code",
   "execution_count": 7,
   "id": "d0e27bfb-f84b-4f73-9912-ff082a174d34",
   "metadata": {},
   "outputs": [
    {
     "data": {
      "text/plain": [
       "File(filename=./training_100gal.hdf5, title='', mode='r', root_uep='/', filters=Filters(complevel=0, shuffle=False, bitshuffle=False, fletcher32=False, least_significant_digit=None))\n",
       "/ (RootGroup) ''\n",
       "/photometry (Group) ''\n",
       "/photometry/id (Array(100,)) ''\n",
       "  atom := Int64Atom(shape=(), dflt=0)\n",
       "  maindim := 0\n",
       "  flavor := 'numpy'\n",
       "  byteorder := 'little'\n",
       "  chunkshape := None\n",
       "/photometry/mag_err_g_lsst (Array(100,)) ''\n",
       "  atom := Float32Atom(shape=(), dflt=0.0)\n",
       "  maindim := 0\n",
       "  flavor := 'numpy'\n",
       "  byteorder := 'little'\n",
       "  chunkshape := None\n",
       "/photometry/mag_err_i_lsst (Array(100,)) ''\n",
       "  atom := Float32Atom(shape=(), dflt=0.0)\n",
       "  maindim := 0\n",
       "  flavor := 'numpy'\n",
       "  byteorder := 'little'\n",
       "  chunkshape := None\n",
       "/photometry/mag_err_r_lsst (Array(100,)) ''\n",
       "  atom := Float32Atom(shape=(), dflt=0.0)\n",
       "  maindim := 0\n",
       "  flavor := 'numpy'\n",
       "  byteorder := 'little'\n",
       "  chunkshape := None\n",
       "/photometry/mag_err_u_lsst (Array(100,)) ''\n",
       "  atom := Float32Atom(shape=(), dflt=0.0)\n",
       "  maindim := 0\n",
       "  flavor := 'numpy'\n",
       "  byteorder := 'little'\n",
       "  chunkshape := None\n",
       "/photometry/mag_err_y_lsst (Array(100,)) ''\n",
       "  atom := Float32Atom(shape=(), dflt=0.0)\n",
       "  maindim := 0\n",
       "  flavor := 'numpy'\n",
       "  byteorder := 'little'\n",
       "  chunkshape := None\n",
       "/photometry/mag_err_z_lsst (Array(100,)) ''\n",
       "  atom := Float32Atom(shape=(), dflt=0.0)\n",
       "  maindim := 0\n",
       "  flavor := 'numpy'\n",
       "  byteorder := 'little'\n",
       "  chunkshape := None\n",
       "/photometry/mag_g_lsst (Array(100,)) ''\n",
       "  atom := Float32Atom(shape=(), dflt=0.0)\n",
       "  maindim := 0\n",
       "  flavor := 'numpy'\n",
       "  byteorder := 'little'\n",
       "  chunkshape := None\n",
       "/photometry/mag_i_lsst (Array(100,)) ''\n",
       "  atom := Float32Atom(shape=(), dflt=0.0)\n",
       "  maindim := 0\n",
       "  flavor := 'numpy'\n",
       "  byteorder := 'little'\n",
       "  chunkshape := None\n",
       "/photometry/mag_r_lsst (Array(100,)) ''\n",
       "  atom := Float32Atom(shape=(), dflt=0.0)\n",
       "  maindim := 0\n",
       "  flavor := 'numpy'\n",
       "  byteorder := 'little'\n",
       "  chunkshape := None\n",
       "/photometry/mag_u_lsst (Array(100,)) ''\n",
       "  atom := Float32Atom(shape=(), dflt=0.0)\n",
       "  maindim := 0\n",
       "  flavor := 'numpy'\n",
       "  byteorder := 'little'\n",
       "  chunkshape := None\n",
       "/photometry/mag_y_lsst (Array(100,)) ''\n",
       "  atom := Float32Atom(shape=(), dflt=0.0)\n",
       "  maindim := 0\n",
       "  flavor := 'numpy'\n",
       "  byteorder := 'little'\n",
       "  chunkshape := None\n",
       "/photometry/mag_z_lsst (Array(100,)) ''\n",
       "  atom := Float32Atom(shape=(), dflt=0.0)\n",
       "  maindim := 0\n",
       "  flavor := 'numpy'\n",
       "  byteorder := 'little'\n",
       "  chunkshape := None\n",
       "/photometry/redshift (Array(100,)) ''\n",
       "  atom := Float64Atom(shape=(), dflt=0.0)\n",
       "  maindim := 0\n",
       "  flavor := 'numpy'\n",
       "  byteorder := 'little'\n",
       "  chunkshape := None"
      ]
     },
     "execution_count": 7,
     "metadata": {},
     "output_type": "execute_result"
    }
   ],
   "source": [
    "h5file"
   ]
  },
  {
   "cell_type": "code",
   "execution_count": 9,
   "id": "62c8dce1-689b-4145-bf04-10c2114fc423",
   "metadata": {},
   "outputs": [
    {
     "name": "stdout",
     "output_type": "stream",
     "text": [
      "/ (RootGroup) ''\n",
      "/photometry (Group) ''\n",
      "/photometry/id (Array(100,)) ''\n",
      "/photometry/mag_err_g_lsst (Array(100,)) ''\n",
      "/photometry/mag_err_i_lsst (Array(100,)) ''\n",
      "/photometry/mag_err_r_lsst (Array(100,)) ''\n",
      "/photometry/mag_err_u_lsst (Array(100,)) ''\n",
      "/photometry/mag_err_y_lsst (Array(100,)) ''\n",
      "/photometry/mag_err_z_lsst (Array(100,)) ''\n",
      "/photometry/mag_g_lsst (Array(100,)) ''\n",
      "/photometry/mag_i_lsst (Array(100,)) ''\n",
      "/photometry/mag_r_lsst (Array(100,)) ''\n",
      "/photometry/mag_u_lsst (Array(100,)) ''\n",
      "/photometry/mag_y_lsst (Array(100,)) ''\n",
      "/photometry/mag_z_lsst (Array(100,)) ''\n",
      "/photometry/redshift (Array(100,)) ''\n"
     ]
    }
   ],
   "source": [
    "for node in h5file:\n",
    "    print(node)"
   ]
  },
  {
   "cell_type": "code",
   "execution_count": 14,
   "id": "d6487688-c53a-4461-8da4-8a7e937256f5",
   "metadata": {},
   "outputs": [
    {
     "name": "stdout",
     "output_type": "stream",
     "text": [
      "/ (RootGroup) ''\n",
      "/photometry (Group) ''\n"
     ]
    }
   ],
   "source": [
    "for group in h5file.walk_groups():\n",
    "    print(group)"
   ]
  },
  {
   "cell_type": "code",
   "execution_count": 12,
   "id": "fa93ebcf-822a-4bc2-bfdd-d062eac6e5f7",
   "metadata": {},
   "outputs": [
    {
     "name": "stdout",
     "output_type": "stream",
     "text": [
      "/photometry/id (Array(100,)) ''\n",
      "/photometry/mag_err_g_lsst (Array(100,)) ''\n",
      "/photometry/mag_err_i_lsst (Array(100,)) ''\n",
      "/photometry/mag_err_r_lsst (Array(100,)) ''\n",
      "/photometry/mag_err_u_lsst (Array(100,)) ''\n",
      "/photometry/mag_err_y_lsst (Array(100,)) ''\n",
      "/photometry/mag_err_z_lsst (Array(100,)) ''\n",
      "/photometry/mag_g_lsst (Array(100,)) ''\n",
      "/photometry/mag_i_lsst (Array(100,)) ''\n",
      "/photometry/mag_r_lsst (Array(100,)) ''\n",
      "/photometry/mag_u_lsst (Array(100,)) ''\n",
      "/photometry/mag_y_lsst (Array(100,)) ''\n",
      "/photometry/mag_z_lsst (Array(100,)) ''\n",
      "/photometry/redshift (Array(100,)) ''\n"
     ]
    }
   ],
   "source": [
    "for group in h5file.walk_groups(\"/\"):\n",
    "    for array in h5file.list_nodes(group, classname='Array'):\n",
    "        print(array)"
   ]
  },
  {
   "cell_type": "code",
   "execution_count": 13,
   "id": "7d3c3837-7ca7-4a8e-b944-be12941ec9fa",
   "metadata": {},
   "outputs": [
    {
     "name": "stdout",
     "output_type": "stream",
     "text": [
      "/photometry/id (Array(100,)) ''\n",
      "/photometry/mag_err_g_lsst (Array(100,)) ''\n",
      "/photometry/mag_err_i_lsst (Array(100,)) ''\n",
      "/photometry/mag_err_r_lsst (Array(100,)) ''\n",
      "/photometry/mag_err_u_lsst (Array(100,)) ''\n",
      "/photometry/mag_err_y_lsst (Array(100,)) ''\n",
      "/photometry/mag_err_z_lsst (Array(100,)) ''\n",
      "/photometry/mag_g_lsst (Array(100,)) ''\n",
      "/photometry/mag_i_lsst (Array(100,)) ''\n",
      "/photometry/mag_r_lsst (Array(100,)) ''\n",
      "/photometry/mag_u_lsst (Array(100,)) ''\n",
      "/photometry/mag_y_lsst (Array(100,)) ''\n",
      "/photometry/mag_z_lsst (Array(100,)) ''\n",
      "/photometry/redshift (Array(100,)) ''\n"
     ]
    }
   ],
   "source": [
    "for array in h5file.walk_nodes(\"/\", \"Array\"):\n",
    "    print(array)"
   ]
  },
  {
   "cell_type": "code",
   "execution_count": 16,
   "id": "2d820638-650f-4942-a758-1d03176ba80e",
   "metadata": {},
   "outputs": [
    {
     "name": "stdout",
     "output_type": "stream",
     "text": [
      "/photometry/id (Array(100,)) ''\n",
      "/photometry/mag_err_g_lsst (Array(100,)) ''\n",
      "/photometry/mag_err_i_lsst (Array(100,)) ''\n",
      "/photometry/mag_err_r_lsst (Array(100,)) ''\n",
      "/photometry/mag_err_u_lsst (Array(100,)) ''\n",
      "/photometry/mag_err_y_lsst (Array(100,)) ''\n",
      "/photometry/mag_err_z_lsst (Array(100,)) ''\n",
      "/photometry/mag_g_lsst (Array(100,)) ''\n",
      "/photometry/mag_i_lsst (Array(100,)) ''\n",
      "/photometry/mag_r_lsst (Array(100,)) ''\n",
      "/photometry/mag_u_lsst (Array(100,)) ''\n",
      "/photometry/mag_y_lsst (Array(100,)) ''\n",
      "/photometry/mag_z_lsst (Array(100,)) ''\n",
      "/photometry/redshift (Array(100,)) ''\n"
     ]
    }
   ],
   "source": [
    "for leaf in h5file.root.photometry._f_walknodes('Leaf'):\n",
    "    print(leaf)"
   ]
  },
  {
   "cell_type": "code",
   "execution_count": 21,
   "id": "2e77daf9-5beb-4a00-82c5-6aa6f1de2d80",
   "metadata": {},
   "outputs": [],
   "source": [
    "table_u = h5file.root.photometry.mag_u_lsst\n",
    "table_g = h5file.root.photometry.mag_g_lsst\n",
    "table_r = h5file.root.photometry.mag_r_lsst\n",
    "table_i = h5file.root.photometry.mag_i_lsst\n",
    "table_z = h5file.root.photometry.mag_z_lsst\n",
    "table_y = h5file.root.photometry.mag_y_lsst"
   ]
  },
  {
   "cell_type": "code",
   "execution_count": 23,
   "id": "f8d07aac-bcee-4549-b11a-fe484cdc099a",
   "metadata": {},
   "outputs": [],
   "source": [
    "table_eu = h5file.root.photometry.mag_err_u_lsst\n",
    "table_eg = h5file.root.photometry.mag_err_g_lsst\n",
    "table_er = h5file.root.photometry.mag_err_r_lsst\n",
    "table_ei = h5file.root.photometry.mag_err_i_lsst\n",
    "table_ez = h5file.root.photometry.mag_err_z_lsst\n",
    "table_ey = h5file.root.photometry.mag_err_y_lsst"
   ]
  },
  {
   "cell_type": "code",
   "execution_count": 24,
   "id": "72f2e997-7b73-481c-bd9f-52f9c41292d2",
   "metadata": {},
   "outputs": [
    {
     "data": {
      "text/plain": [
       "array([26.247005, 24.782007, 26.752287, 26.13876 , 24.398565, 23.12058 ,\n",
       "       26.304996, 26.13049 , 25.464949, 26.102516, 26.316523, 27.256687,\n",
       "       99.      , 26.189087, 25.66635 , 26.281008, 25.432714, 99.      ,\n",
       "       23.390524, 26.206451, 27.32527 , 26.717436, 24.015612, 26.172169,\n",
       "       25.009739, 25.601656, 24.666798, 25.054424, 23.57657 , 25.538166,\n",
       "       25.620358, 24.2568  , 26.731861, 33.314445, 25.050522, 27.881075,\n",
       "       26.245075, 24.69959 , 21.590052, 24.95417 , 25.201153, 22.865528,\n",
       "       27.155476, 20.722042, 20.129406, 23.6999  , 23.577507, 24.263119,\n",
       "       25.662338, 25.096107, 26.41169 , 99.      , 25.826529, 26.027357,\n",
       "       28.131367, 26.617027, 26.522411, 99.      , 26.163599, 27.50383 ,\n",
       "       26.328318, 26.675486, 27.306707, 23.3889  , 27.777668, 26.431164,\n",
       "       26.670725, 24.81876 , 99.      , 24.797033, 26.494059, 27.309843,\n",
       "       24.775227, 25.534637, 26.512402, 27.023077, 25.40496 , 24.750412,\n",
       "       26.676098, 25.96148 , 26.947027, 25.910873, 26.703995, 99.      ,\n",
       "       26.145103, 26.659012, 26.007044, 24.788773, 25.642866, 25.998133,\n",
       "       26.179853, 27.342299, 26.549208, 25.860176, 25.42382 , 25.319775,\n",
       "       99.      , 26.797453, 26.31146 , 25.825542], dtype=float32)"
      ]
     },
     "execution_count": 24,
     "metadata": {},
     "output_type": "execute_result"
    }
   ],
   "source": [
    "table_u[:]"
   ]
  },
  {
   "cell_type": "code",
   "execution_count": null,
   "id": "5e27a330-9779-40bb-8076-8a6250b53713",
   "metadata": {},
   "outputs": [],
   "source": []
  }
 ],
 "metadata": {
  "kernelspec": {
   "display_name": "desc",
   "language": "python",
   "name": "desc"
  },
  "language_info": {
   "codemirror_mode": {
    "name": "ipython",
    "version": 3
   },
   "file_extension": ".py",
   "mimetype": "text/x-python",
   "name": "python",
   "nbconvert_exporter": "python",
   "pygments_lexer": "ipython3",
   "version": "3.8.12"
  }
 },
 "nbformat": 4,
 "nbformat_minor": 5
}
